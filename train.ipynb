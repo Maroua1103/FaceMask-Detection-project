{
 "cells": [
  {
   "cell_type": "code",
   "execution_count": 2,
   "metadata": {},
   "outputs": [],
   "source": [
    "import pandas as pd\n",
    "import numpy as np\n",
    "import os\n",
    "import glob\n",
    "from datetime import datetime\n",
    "import xml.etree.ElementTree as ET \n",
    "import cv2 as cv\n",
    "import matplotlib.pyplot as plt\n",
    "import seaborn as sns\n",
    "import warnings\n",
    "warnings.filterwarnings('ignore')"
   ]
  },
  {
   "cell_type": "code",
   "execution_count": 3,
   "metadata": {},
   "outputs": [],
   "source": [
    "annotations_path= r\"C:\\\\Users\\\\Home\\\\Desktop\\\\PFE\\\\pfe_final\\\\dataset\\\\annotations\"\n",
    "#images_path=r\"C:\\\\Users\\\\Home\\\\Desktop\\\\PFE\\\\pfe_final\\\\dataset\\\\images\"\n",
    "images_path=r\"C:\\\\Users\\\\Home\\\\Documents\\\\GitHub\\\\pfe\\\\dataset\\\\images\""
   ]
  },
  {
   "cell_type": "markdown",
   "metadata": {},
   "source": [
    "Load and read the dataset"
   ]
  },
  {
   "cell_type": "code",
   "execution_count": 4,
   "metadata": {},
   "outputs": [],
   "source": [
    "dataset={\n",
    "        \"file\":[],\n",
    "        \"name\":[],\n",
    "        \"width\":[],\n",
    "        \"height\":[],\n",
    "        \"xmin\":[],\n",
    "        \"ymin\":[],\n",
    "        \"xmax\":[],\n",
    "        \"ymax\":[],\n",
    "    }\n",
    "files=[]\n",
    "names=[]\n",
    "widths=[]\n",
    "heights=[]\n",
    "xmins=[]\n",
    "ymins=[]\n",
    "xmaxs=[]\n",
    "ymaxs=[]\n",
    "for anno in glob.glob(annotations_path+\"/*.xml\"):\n",
    "    tree=ET.parse(anno)\n",
    "    for elem in tree.iter():\n",
    "        if 'filename' in elem.tag:\n",
    "            filename=elem.text\n",
    "            filename=filename.split('/')[-1][0:-4]\n",
    "        if 'size' in elem.tag:\n",
    "            for att in list(elem):\n",
    "                if 'width' in att.tag:\n",
    "                    width=int(round(float(att.text)))\n",
    "                if 'height' in att.tag:\n",
    "                    height=int(round(float(att.text)))\n",
    "        if 'object' in elem.tag:\n",
    "            for att in list(elem):\n",
    "                if 'name' in att.tag:\n",
    "                    name=att.text\n",
    "                    files.append(filename)\n",
    "                    names.append(name)\n",
    "                    widths.append(width)\n",
    "                    heights.append(height)                    \n",
    "\n",
    "                if 'bndbox' in att.tag:\n",
    "                    for dimen in list(att):\n",
    "                        if 'xmin' in dimen.tag:\n",
    "                            xmin=int(round(float(dimen.text)))\n",
    "                            xmins.append(xmin)\n",
    "                        if 'ymin' in dimen.tag:\n",
    "                            ymin=int(round(float(dimen.text)))\n",
    "                            ymins.append(ymin)\n",
    "                        if 'xmax' in dimen.tag:\n",
    "                            xmax=int(round(float(dimen.text)))\n",
    "                            xmaxs.append(xmax)\n",
    "                        if 'ymax' in dimen.tag:\n",
    "                            ymax=int(round(float(dimen.text)))    \n",
    "                            ymaxs.append(ymax)\n",
    "dataset['name']=names\n",
    "dataset['file']=files\n",
    "dataset['width']=widths\n",
    "dataset[\"height\"]=heights\n",
    "dataset['xmin']=xmins\n",
    "dataset[\"ymin\"]=ymins\n",
    "dataset[\"xmax\"]=xmaxs\n",
    "dataset[\"ymax\"]=ymaxs\n"
   ]
  },
  {
   "cell_type": "code",
   "execution_count": 5,
   "metadata": {},
   "outputs": [
    {
     "data": {
      "text/plain": [
       "array(['mask_weared_incorrect', 'with_mask', 'without_mask'], dtype=object)"
      ]
     },
     "execution_count": 5,
     "metadata": {},
     "output_type": "execute_result"
    }
   ],
   "source": [
    "data=pd.DataFrame(dataset)\n",
    "np.sort(data.name.unique())"
   ]
  },
  {
   "cell_type": "markdown",
   "metadata": {},
   "source": [
    "Mapping the data\n",
    "0: without mask\n",
    "1: with mask\n",
    "2: Mask weared incorrect"
   ]
  },
  {
   "cell_type": "code",
   "execution_count": 6,
   "metadata": {},
   "outputs": [
    {
     "data": {
      "text/html": [
       "<div>\n",
       "<style scoped>\n",
       "    .dataframe tbody tr th:only-of-type {\n",
       "        vertical-align: middle;\n",
       "    }\n",
       "\n",
       "    .dataframe tbody tr th {\n",
       "        vertical-align: top;\n",
       "    }\n",
       "\n",
       "    .dataframe thead th {\n",
       "        text-align: right;\n",
       "    }\n",
       "</style>\n",
       "<table border=\"1\" class=\"dataframe\">\n",
       "  <thead>\n",
       "    <tr style=\"text-align: right;\">\n",
       "      <th></th>\n",
       "      <th>file</th>\n",
       "      <th>name</th>\n",
       "      <th>width</th>\n",
       "      <th>height</th>\n",
       "      <th>xmin</th>\n",
       "      <th>ymin</th>\n",
       "      <th>xmax</th>\n",
       "      <th>ymax</th>\n",
       "      <th>class</th>\n",
       "      <th>Annotation_file</th>\n",
       "      <th>Images_file</th>\n",
       "    </tr>\n",
       "  </thead>\n",
       "  <tbody>\n",
       "    <tr>\n",
       "      <th>0</th>\n",
       "      <td>maksssksksss0</td>\n",
       "      <td>without_mask</td>\n",
       "      <td>512</td>\n",
       "      <td>366</td>\n",
       "      <td>79</td>\n",
       "      <td>105</td>\n",
       "      <td>109</td>\n",
       "      <td>142</td>\n",
       "      <td>0</td>\n",
       "      <td>maksssksksss0.xml</td>\n",
       "      <td>maksssksksss0.png</td>\n",
       "    </tr>\n",
       "    <tr>\n",
       "      <th>1</th>\n",
       "      <td>maksssksksss0</td>\n",
       "      <td>with_mask</td>\n",
       "      <td>512</td>\n",
       "      <td>366</td>\n",
       "      <td>185</td>\n",
       "      <td>100</td>\n",
       "      <td>226</td>\n",
       "      <td>144</td>\n",
       "      <td>1</td>\n",
       "      <td>maksssksksss0.xml</td>\n",
       "      <td>maksssksksss0.png</td>\n",
       "    </tr>\n",
       "    <tr>\n",
       "      <th>2</th>\n",
       "      <td>maksssksksss0</td>\n",
       "      <td>without_mask</td>\n",
       "      <td>512</td>\n",
       "      <td>366</td>\n",
       "      <td>325</td>\n",
       "      <td>90</td>\n",
       "      <td>360</td>\n",
       "      <td>141</td>\n",
       "      <td>0</td>\n",
       "      <td>maksssksksss0.xml</td>\n",
       "      <td>maksssksksss0.png</td>\n",
       "    </tr>\n",
       "    <tr>\n",
       "      <th>3</th>\n",
       "      <td>maksssksksss1</td>\n",
       "      <td>with_mask</td>\n",
       "      <td>400</td>\n",
       "      <td>156</td>\n",
       "      <td>321</td>\n",
       "      <td>34</td>\n",
       "      <td>354</td>\n",
       "      <td>69</td>\n",
       "      <td>1</td>\n",
       "      <td>maksssksksss1.xml</td>\n",
       "      <td>maksssksksss1.png</td>\n",
       "    </tr>\n",
       "    <tr>\n",
       "      <th>4</th>\n",
       "      <td>maksssksksss1</td>\n",
       "      <td>with_mask</td>\n",
       "      <td>400</td>\n",
       "      <td>156</td>\n",
       "      <td>224</td>\n",
       "      <td>38</td>\n",
       "      <td>261</td>\n",
       "      <td>73</td>\n",
       "      <td>1</td>\n",
       "      <td>maksssksksss1.xml</td>\n",
       "      <td>maksssksksss1.png</td>\n",
       "    </tr>\n",
       "    <tr>\n",
       "      <th>...</th>\n",
       "      <td>...</td>\n",
       "      <td>...</td>\n",
       "      <td>...</td>\n",
       "      <td>...</td>\n",
       "      <td>...</td>\n",
       "      <td>...</td>\n",
       "      <td>...</td>\n",
       "      <td>...</td>\n",
       "      <td>...</td>\n",
       "      <td>...</td>\n",
       "      <td>...</td>\n",
       "    </tr>\n",
       "    <tr>\n",
       "      <th>4067</th>\n",
       "      <td>maksssksksss98</td>\n",
       "      <td>with_mask</td>\n",
       "      <td>400</td>\n",
       "      <td>267</td>\n",
       "      <td>263</td>\n",
       "      <td>62</td>\n",
       "      <td>287</td>\n",
       "      <td>85</td>\n",
       "      <td>1</td>\n",
       "      <td>maksssksksss98.xml</td>\n",
       "      <td>maksssksksss98.png</td>\n",
       "    </tr>\n",
       "    <tr>\n",
       "      <th>4068</th>\n",
       "      <td>maksssksksss98</td>\n",
       "      <td>with_mask</td>\n",
       "      <td>400</td>\n",
       "      <td>267</td>\n",
       "      <td>344</td>\n",
       "      <td>80</td>\n",
       "      <td>377</td>\n",
       "      <td>106</td>\n",
       "      <td>1</td>\n",
       "      <td>maksssksksss98.xml</td>\n",
       "      <td>maksssksksss98.png</td>\n",
       "    </tr>\n",
       "    <tr>\n",
       "      <th>4069</th>\n",
       "      <td>maksssksksss99</td>\n",
       "      <td>mask_weared_incorrect</td>\n",
       "      <td>400</td>\n",
       "      <td>267</td>\n",
       "      <td>181</td>\n",
       "      <td>54</td>\n",
       "      <td>273</td>\n",
       "      <td>162</td>\n",
       "      <td>2</td>\n",
       "      <td>maksssksksss99.xml</td>\n",
       "      <td>maksssksksss99.png</td>\n",
       "    </tr>\n",
       "    <tr>\n",
       "      <th>4070</th>\n",
       "      <td>maksssksksss99</td>\n",
       "      <td>with_mask</td>\n",
       "      <td>400</td>\n",
       "      <td>267</td>\n",
       "      <td>99</td>\n",
       "      <td>87</td>\n",
       "      <td>176</td>\n",
       "      <td>165</td>\n",
       "      <td>1</td>\n",
       "      <td>maksssksksss99.xml</td>\n",
       "      <td>maksssksksss99.png</td>\n",
       "    </tr>\n",
       "    <tr>\n",
       "      <th>4071</th>\n",
       "      <td>maksssksksss99</td>\n",
       "      <td>with_mask</td>\n",
       "      <td>400</td>\n",
       "      <td>267</td>\n",
       "      <td>289</td>\n",
       "      <td>99</td>\n",
       "      <td>355</td>\n",
       "      <td>233</td>\n",
       "      <td>1</td>\n",
       "      <td>maksssksksss99.xml</td>\n",
       "      <td>maksssksksss99.png</td>\n",
       "    </tr>\n",
       "  </tbody>\n",
       "</table>\n",
       "<p>4072 rows × 11 columns</p>\n",
       "</div>"
      ],
      "text/plain": [
       "                file                   name  width  height  xmin  ymin  xmax  \\\n",
       "0      maksssksksss0           without_mask    512     366    79   105   109   \n",
       "1      maksssksksss0              with_mask    512     366   185   100   226   \n",
       "2      maksssksksss0           without_mask    512     366   325    90   360   \n",
       "3      maksssksksss1              with_mask    400     156   321    34   354   \n",
       "4      maksssksksss1              with_mask    400     156   224    38   261   \n",
       "...              ...                    ...    ...     ...   ...   ...   ...   \n",
       "4067  maksssksksss98              with_mask    400     267   263    62   287   \n",
       "4068  maksssksksss98              with_mask    400     267   344    80   377   \n",
       "4069  maksssksksss99  mask_weared_incorrect    400     267   181    54   273   \n",
       "4070  maksssksksss99              with_mask    400     267    99    87   176   \n",
       "4071  maksssksksss99              with_mask    400     267   289    99   355   \n",
       "\n",
       "      ymax  class     Annotation_file         Images_file  \n",
       "0      142      0   maksssksksss0.xml   maksssksksss0.png  \n",
       "1      144      1   maksssksksss0.xml   maksssksksss0.png  \n",
       "2      141      0   maksssksksss0.xml   maksssksksss0.png  \n",
       "3       69      1   maksssksksss1.xml   maksssksksss1.png  \n",
       "4       73      1   maksssksksss1.xml   maksssksksss1.png  \n",
       "...    ...    ...                 ...                 ...  \n",
       "4067    85      1  maksssksksss98.xml  maksssksksss98.png  \n",
       "4068   106      1  maksssksksss98.xml  maksssksksss98.png  \n",
       "4069   162      2  maksssksksss99.xml  maksssksksss99.png  \n",
       "4070   165      1  maksssksksss99.xml  maksssksksss99.png  \n",
       "4071   233      1  maksssksksss99.xml  maksssksksss99.png  \n",
       "\n",
       "[4072 rows x 11 columns]"
      ]
     },
     "execution_count": 6,
     "metadata": {},
     "output_type": "execute_result"
    }
   ],
   "source": [
    "dataset_mapped=data.copy()\n",
    "#dataset_mapped=dataset_mapped.drop(['file'],axis=1)\n",
    "dataset_mapped['class']=dataset_mapped['name'].map({'without_mask':0,'with_mask':1,'mask_weared_incorrect':2})\n",
    "dataset_mapped['Annotation_file']=dataset_mapped['file']+ '.xml'\n",
    "dataset_mapped['Images_file']=dataset_mapped['file']+ '.png'\n",
    "label_dict={'without_mask':0,'with_mask':1,'mask_weared_incorrect':2}\n",
    "dataset_mapped\n",
    "#np.sort(dataset_mapped.name.unique())\n",
    "#dataset_mapped.shape"
   ]
  },
  {
   "cell_type": "code",
   "execution_count": 7,
   "metadata": {},
   "outputs": [
    {
     "data": {
      "text/plain": [
       "file                   maksssksksss0\n",
       "name                    without_mask\n",
       "width                            512\n",
       "height                           366\n",
       "xmin                              79\n",
       "ymin                             105\n",
       "xmax                             109\n",
       "ymax                             142\n",
       "class                              0\n",
       "Annotation_file    maksssksksss0.xml\n",
       "Images_file        maksssksksss0.png\n",
       "Name: 0, dtype: object"
      ]
     },
     "execution_count": 7,
     "metadata": {},
     "output_type": "execute_result"
    }
   ],
   "source": [
    "dataset_mapped.loc[0]"
   ]
  },
  {
   "cell_type": "code",
   "execution_count": 8,
   "metadata": {},
   "outputs": [],
   "source": [
    "namees=dataset_mapped['name']\n",
    "dataset_mapped.drop(['name'],axis=1,inplace=True)"
   ]
  },
  {
   "cell_type": "markdown",
   "metadata": {},
   "source": [
    "Train and split"
   ]
  },
  {
   "cell_type": "code",
   "execution_count": 9,
   "metadata": {},
   "outputs": [],
   "source": [
    "images_file = [cv.imread(images_path+\"\\\\\"+i) for i in os.listdir(images_path)]\n"
   ]
  },
  {
   "cell_type": "code",
   "execution_count": 10,
   "metadata": {},
   "outputs": [
    {
     "data": {
      "text/plain": [
       "(853,)"
      ]
     },
     "execution_count": 10,
     "metadata": {},
     "output_type": "execute_result"
    }
   ],
   "source": [
    "images_file=(np.array(images_file)).reshape(-1)\n",
    "images_file.shape"
   ]
  },
  {
   "cell_type": "code",
   "execution_count": null,
   "metadata": {},
   "outputs": [],
   "source": [
    "images_file=images_file.reshape(-1)\n",
    "len(images_file)"
   ]
  },
  {
   "cell_type": "markdown",
   "metadata": {},
   "source": [
    "so here i suggest \n",
    "1.we crop the images w ndirohoum f dossier\n",
    "2.n7atouhoum f dataframe so koul pic tkoun m3a coordonnée ta3ha \n",
    "3 spliiiiiit timmmmmmmmmme \n"
   ]
  },
  {
   "cell_type": "code",
   "execution_count": null,
   "metadata": {},
   "outputs": [],
   "source": [
    "x_train,x_test,y_test,y_train= train_test_split(images_file,namees, test_size=0.1, random_state=22)\n"
   ]
  }
 ],
 "metadata": {
  "interpreter": {
   "hash": "6695315e432dad9365e64f39285f0493c8af918d3cb74b9bae4e100548ae2c82"
  },
  "kernelspec": {
   "display_name": "Python 3.9.5 64-bit",
   "language": "python",
   "name": "python3"
  },
  "language_info": {
   "codemirror_mode": {
    "name": "ipython",
    "version": 3
   },
   "file_extension": ".py",
   "mimetype": "text/x-python",
   "name": "python",
   "nbconvert_exporter": "python",
   "pygments_lexer": "ipython3",
   "version": "3.9.5"
  },
  "orig_nbformat": 4
 },
 "nbformat": 4,
 "nbformat_minor": 2
}
